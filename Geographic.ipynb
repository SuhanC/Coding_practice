{
 "cells": [
  {
   "cell_type": "code",
   "execution_count": 1,
   "id": "42e65740-5fba-4076-8fac-e5b619b765f3",
   "metadata": {},
   "outputs": [
    {
     "ename": "NameError",
     "evalue": "name 'address_df' is not defined",
     "output_type": "error",
     "traceback": [
      "\u001b[0;31m---------------------------------------------------------------------------\u001b[0m",
      "\u001b[0;31mNameError\u001b[0m                                 Traceback (most recent call last)",
      "\u001b[0;32m/tmp/ipykernel_102777/1544896113.py\u001b[0m in \u001b[0;36m<module>\u001b[0;34m\u001b[0m\n\u001b[1;32m      1\u001b[0m \u001b[0;31m#I have a pandas DataFrame called address_df that has a long and a lat column\u001b[0m\u001b[0;34m\u001b[0m\u001b[0;34m\u001b[0m\u001b[0m\n\u001b[1;32m      2\u001b[0m \u001b[0;34m\u001b[0m\u001b[0m\n\u001b[0;32m----> 3\u001b[0;31m address_df['geometry'] = address_df.apply(\n\u001b[0m\u001b[1;32m      4\u001b[0m lambda x: Point((x.long, x.lat)), axis = 1)\n\u001b[1;32m      5\u001b[0m \u001b[0;34m\u001b[0m\u001b[0m\n",
      "\u001b[0;31mNameError\u001b[0m: name 'address_df' is not defined"
     ]
    }
   ],
   "source": [
    "#I have a pandas DataFrame called address_df that has a long and a lat column\n",
    "\n",
    "address_df['geometry'] = address_df.apply(\n",
    "lambda x: Point((x.long, x.lat)), axis = 1)\n",
    "\n",
    "#changing to geopandas\n",
    "geo_df = gpd.GeoDataFrame(address_df, crs=crs, geometry= address_df.geometry)\n",
    "\n",
    "#the in_cou is a geoDataFrame that I read_file from a .shp file\n",
    "in_cou.geometry = in_cou.geometry.to_crs(epsg = 3857)\n",
    "geo_df.geometry = geo_df.geometry.to_crs(epsg = 3857)\n",
    "\n",
    "#Joining datasets\n",
    "cou_hos = gpd.sjoin(in_cou, geo_df, how=\"inner\", op='intersects')\n",
    "\n",
    "#The figure is create using matplotlib \n",
    "fig, ax = plt.subplots(figsize=(15,15))\n",
    "minx, miny, maxx, maxy = in_cou.total_bounds\n",
    "\n",
    "ax.set_xlim(auto=True)\n",
    "ax.set_ylim(auto=True)\n",
    "ax.set_aspect('auto')\n",
    "#Thicks left empty for cosmetic reasons \n",
    "plt.xticks([])\n",
    "plt.yticks([])\n",
    "plt.title(\"Providers\",fontsize=40,y=1.04, x= .55)\n",
    "\n",
    "plt.rcParams['font.size'] = 20\n",
    "cmap1 = ListedColormap(['#2f7d50'], name='allred')\n",
    "cmap2 = ListedColormap(['#a0a8a3'], name='allblue')\n",
    "\n",
    "#Plot the first layer of the map. \n",
    "in_cou.plot(ax=ax, edgecolor='black',cmap = cmap1, legend = False, alpha =0.9)\n",
    "cou_hos.plot(ax=ax, edgecolor='black',cmap = cmap2, legend = False,alpha = 0.9)\n",
    "\n",
    "#Plot the second layer of the map. The yellow plus markers. \n",
    "geo_df.plot(ax=ax, marker=\"P\",edgecolor='k', markersize=150,alpha= 0.8, c= '#ffff00', label= \"Providers\" ) #geo_df['Type'].apply(lambda x: colors[x]))\n",
    "plt.legend(prop={\"size\": 19},bbox_to_anchor=(0.56, -.09), loc='lower center', ncol=3)\n",
    "\n",
    "plt.show()"
   ]
  },
  {
   "cell_type": "code",
   "execution_count": null,
   "id": "483ebf91-c25a-4fc2-88f4-cf0b53058c39",
   "metadata": {},
   "outputs": [],
   "source": []
  }
 ],
 "metadata": {
  "kernelspec": {
   "display_name": "Python 3 (ipykernel)",
   "language": "python",
   "name": "python3"
  },
  "language_info": {
   "codemirror_mode": {
    "name": "ipython",
    "version": 3
   },
   "file_extension": ".py",
   "mimetype": "text/x-python",
   "name": "python",
   "nbconvert_exporter": "python",
   "pygments_lexer": "ipython3",
   "version": "3.9.7"
  }
 },
 "nbformat": 4,
 "nbformat_minor": 5
}
